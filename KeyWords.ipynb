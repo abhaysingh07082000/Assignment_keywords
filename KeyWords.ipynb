{
 "cells": [
  {
   "cell_type": "markdown",
   "id": "bd9c60c6",
   "metadata": {},
   "source": [
    "# Assignment-Keywords"
   ]
  },
  {
   "cell_type": "markdown",
   "id": "f1df49a0",
   "metadata": {},
   "source": [
    "# Q1 Explain the significance of Python keywords and provide examples of five keywords"
   ]
  },
  {
   "cell_type": "code",
   "execution_count": 9,
   "id": "9223275e",
   "metadata": {},
   "outputs": [
    {
     "name": "stdout",
     "output_type": "stream",
     "text": [
      "True\n",
      "0\n",
      "1\n",
      "2\n",
      "3\n",
      "4\n",
      "Hii\n",
      "abhay\n",
      "6\n"
     ]
    }
   ],
   "source": [
    "'''Keywords are the reserved words which have specific meaning and purpose in the programming,so these words cannot be used as a identifier\n",
    "like variable name or function name etc because they all are reserved for specific purpose.\n",
    "\n",
    "Examples:-\n",
    "\n",
    "1.if:\n",
    "    this is a condtional statement which is used for decision making.'''\n",
    "    \n",
    "if 51>6:\n",
    "    print(\"True\")\n",
    "    \n",
    "'''\n",
    "2.for:\n",
    "    for loop is used to iterate the sequence like list,tuple or dictionary'''   \n",
    "for i in range(5):\n",
    "    print(i)\n",
    "    \n",
    "'''\n",
    "3.def:\n",
    "  this keyword is used to define a function to solve a particular task.\n",
    "'''   \n",
    "def function1():\n",
    "    print(\"Hii\")\n",
    "        \n",
    "function1()   \n",
    "\n",
    "'''\n",
    "4.class:\n",
    "    this is used to make a class in object oriented programming.'''\n",
    "class A:\n",
    "    def __init__(self, name):\n",
    "        self.name = name\n",
    "    def naam(name):\n",
    "        print(name)\n",
    "res= A.naam(\"abhay\")\n",
    "\n",
    "'''\n",
    "5.and:\n",
    "   it is used to combine the multiple condition'''\n",
    "a=5\n",
    "b=6\n",
    "res=a and b\n",
    "print(res)"
   ]
  },
  {
   "cell_type": "markdown",
   "id": "e984dee6",
   "metadata": {},
   "source": [
    "# Q2 Descri0e the rules for defining identifiers in Python and provide an example."
   ]
  },
  {
   "cell_type": "code",
   "execution_count": 2,
   "id": "fa44ee53",
   "metadata": {},
   "outputs": [
    {
     "data": {
      "text/plain": [
       "'definition:these are the names which is used to define the variables,functions,classes and modules.\\n\\nThere are certain Rules to define a identifiers-\\n\\n1.Not started with numbers: we should never start a identifier name with numbers,this is syntacticall error.\\nEx=2abay(wrong) abhay2(right)\\n\\n2.Space is Not allowed Between two words-There is no space allowed between two words.\\nEx=Abhay Singh (wrong) Abhay_Singh(right)\\n\\n3.Not used reserved Words:we should not used reserved words to define any identifiers.\\n    Ex=for,while,if\\n\\n4.Case sensitive-Python is case sensitive so we shuld always take care of it.Abhay and abhay have different identifiers.'"
      ]
     },
     "execution_count": 2,
     "metadata": {},
     "output_type": "execute_result"
    }
   ],
   "source": [
    "'''definition:these are the names which is used to define the variables,functions,classes and modules.\n",
    "\n",
    "There are certain Rules to define a identifiers-\n",
    "\n",
    "1.Not started with numbers: we should never start a identifier name with numbers,this is syntacticall error.\n",
    "Ex=2abay(wrong) abhay2(right)\n",
    "\n",
    "2.Space is Not allowed Between two words-There is no space allowed between two words.\n",
    "Ex=Abhay Singh (wrong) Abhay_Singh(right)\n",
    "\n",
    "3.Not used reserved Words:we should not used reserved words to define any identifiers.\n",
    "    Ex=for,while,if\n",
    "\n",
    "4.Case sensitive-Python is case sensitive so we shuld always take care of it.Abhay and abhay have different identifiers.'''   "
   ]
  },
  {
   "cell_type": "markdown",
   "id": "761b115c",
   "metadata": {},
   "source": [
    "# Q3 What are comments in Python, and why are they useful6 Provide an example"
   ]
  },
  {
   "cell_type": "code",
   "execution_count": 4,
   "id": "5c285f46",
   "metadata": {},
   "outputs": [],
   "source": [
    "'''comments are very useful to define anything which I have done in my program.They are ignored by the python compiler.'''\n",
    "\n",
    "Ex= 5+6 #sum of two numers"
   ]
  },
  {
   "cell_type": "markdown",
   "id": "00532f98",
   "metadata": {},
   "source": [
    "# Q4 Why is proper indentation important in Python6"
   ]
  },
  {
   "cell_type": "code",
   "execution_count": 5,
   "id": "6986009b",
   "metadata": {},
   "outputs": [
    {
     "data": {
      "text/plain": [
       "'proper indentation is crucial in python programming because it defines the strucutre and scope of the code of the block.\\nDue to which the code is very readable and well structured.so that the code is becomes easy to read and helps in better understanding.'"
      ]
     },
     "execution_count": 5,
     "metadata": {},
     "output_type": "execute_result"
    }
   ],
   "source": [
    "'''proper indentation is crucial in python programming because it defines the strucutre and scope of the code of the block.\n",
    "Due to which the code is very readable and well structured.so that the code is becomes easy to read and helps in better understanding.'''"
   ]
  },
  {
   "cell_type": "markdown",
   "id": "9e56ac8a",
   "metadata": {},
   "source": [
    "# Q5 What happens if indentation is incorrect in Python6"
   ]
  },
  {
   "cell_type": "code",
   "execution_count": 6,
   "id": "cf382fd4",
   "metadata": {},
   "outputs": [
    {
     "data": {
      "text/plain": [
       "'if indentation is incorrect there is issue like syntax error and also logical error.'"
      ]
     },
     "execution_count": 6,
     "metadata": {},
     "output_type": "execute_result"
    }
   ],
   "source": [
    "'''if indentation is incorrect there is issue like syntax error and also logical error.'''"
   ]
  },
  {
   "cell_type": "markdown",
   "id": "d12e392d",
   "metadata": {},
   "source": [
    "# Q6  Differentiate 0etween expression and statement in Python with examples"
   ]
  },
  {
   "cell_type": "code",
   "execution_count": 7,
   "id": "32d5d2c5",
   "metadata": {},
   "outputs": [
    {
     "data": {
      "text/plain": [
       "'Statement:\\n  Statements are mainly complete line of code that is perform an action basically they define the control flow of the programm and \\n  perform an action and expressions can be used in these statements.'"
      ]
     },
     "execution_count": 7,
     "metadata": {},
     "output_type": "execute_result"
    }
   ],
   "source": [
    "'''\n",
    "Expression:\n",
    "   Expressions are the combination of the values,operators,variables,methods and function calls which is used to calculate the value'''\n",
    "\n",
    "'''Statement:\n",
    "  Statements are mainly complete line of code that is perform an action basically they define the control flow of the programm and \n",
    "  perform an action and expressions can be used in these statements.'''"
   ]
  },
  {
   "cell_type": "code",
   "execution_count": null,
   "id": "1ffa8ccb",
   "metadata": {},
   "outputs": [],
   "source": []
  }
 ],
 "metadata": {
  "kernelspec": {
   "display_name": "Python 3 (ipykernel)",
   "language": "python",
   "name": "python3"
  },
  "language_info": {
   "codemirror_mode": {
    "name": "ipython",
    "version": 3
   },
   "file_extension": ".py",
   "mimetype": "text/x-python",
   "name": "python",
   "nbconvert_exporter": "python",
   "pygments_lexer": "ipython3",
   "version": "3.11.5"
  }
 },
 "nbformat": 4,
 "nbformat_minor": 5
}
